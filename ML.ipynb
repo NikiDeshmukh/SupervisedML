{
  "nbformat": 4,
  "nbformat_minor": 2,
  "metadata": {
    "colab": {
      "name": "ML.ipynb",
      "provenance": [],
      "collapsed_sections": []
    },
    "kernelspec": {
      "name": "python3",
      "display_name": "Python 3"
    },
    "language_info": {
      "name": "python"
    }
  },
  "cells": [
    {
      "cell_type": "markdown",
      "source": [
        "**Author - Nikita Sanjay Deshmukh**\r\n",
        "\r\n",
        "**THE SPARKS FOUNDATION**\r\n",
        "\r\n",
        "Prediction using Supervised ML\r\n",
        "\r\n",
        "Data Science and Business Analytics Intern\r\n",
        "\r\n",
        "Task 1: Prediction using Supervised ML \r\n",
        "        ● Predict the percentage of an student based on the no. of study hours.\r\n",
        "        ● This is a simple linear regression task as it involves just 2 variables."
      ],
      "metadata": {
        "id": "RvJbKQb0tobm"
      }
    },
    {
      "cell_type": "code",
      "execution_count": null,
      "source": [
        "import numpy as np\r\n",
        "import pandas as pd\r\n",
        "import matplotlib.pyplot as plt\r\n",
        "import seaborn as sns"
      ],
      "outputs": [],
      "metadata": {
        "id": "oNpjzooEvr1l"
      }
    },
    {
      "cell_type": "code",
      "execution_count": null,
      "source": [
        "from sklearn import model_selection\r\n",
        "from sklearn import linear_model\r\n",
        "from sklearn.linear_model import LinearRegression\r\n",
        "from sklearn.model_selection import train_test_split\r\n"
      ],
      "outputs": [],
      "metadata": {
        "id": "6iNY_eAFv1cr"
      }
    },
    {
      "cell_type": "markdown",
      "source": [],
      "metadata": {
        "id": "9bHDNIWoWkKO"
      }
    },
    {
      "cell_type": "markdown",
      "source": [
        "*Mounting drive to get dataset*"
      ],
      "metadata": {
        "id": "Q5gMDhtkAMX3"
      }
    },
    {
      "cell_type": "code",
      "execution_count": null,
      "source": [
        "from google.colab import drive"
      ],
      "outputs": [],
      "metadata": {
        "id": "D9rYXkXqv-C7"
      }
    },
    {
      "cell_type": "code",
      "execution_count": null,
      "source": [
        "drive.mount('/content/drive')"
      ],
      "outputs": [
        {
          "output_type": "stream",
          "name": "stdout",
          "text": [
            "Drive already mounted at /content/drive; to attempt to forcibly remount, call drive.mount(\"/content/drive\", force_remount=True).\n"
          ]
        }
      ],
      "metadata": {
        "colab": {
          "base_uri": "https://localhost:8080/"
        },
        "id": "AxI894cR71MB",
        "outputId": "a290ab21-de5e-402f-e69a-e3a8d76babbc"
      }
    },
    {
      "cell_type": "code",
      "execution_count": null,
      "source": [
        "data=pd.read_csv('/content/drive/MyDrive/data/student.csv')"
      ],
      "outputs": [],
      "metadata": {
        "id": "PaP7LYFQ77pq"
      }
    },
    {
      "cell_type": "code",
      "execution_count": null,
      "source": [
        "data.head()"
      ],
      "outputs": [
        {
          "output_type": "execute_result",
          "data": {
            "text/html": [
              "<div>\n",
              "<style scoped>\n",
              "    .dataframe tbody tr th:only-of-type {\n",
              "        vertical-align: middle;\n",
              "    }\n",
              "\n",
              "    .dataframe tbody tr th {\n",
              "        vertical-align: top;\n",
              "    }\n",
              "\n",
              "    .dataframe thead th {\n",
              "        text-align: right;\n",
              "    }\n",
              "</style>\n",
              "<table border=\"1\" class=\"dataframe\">\n",
              "  <thead>\n",
              "    <tr style=\"text-align: right;\">\n",
              "      <th></th>\n",
              "      <th>Hours</th>\n",
              "      <th>Scores</th>\n",
              "    </tr>\n",
              "  </thead>\n",
              "  <tbody>\n",
              "    <tr>\n",
              "      <th>0</th>\n",
              "      <td>2.5</td>\n",
              "      <td>21.0</td>\n",
              "    </tr>\n",
              "    <tr>\n",
              "      <th>1</th>\n",
              "      <td>5.1</td>\n",
              "      <td>47.0</td>\n",
              "    </tr>\n",
              "    <tr>\n",
              "      <th>2</th>\n",
              "      <td>3.2</td>\n",
              "      <td>27.0</td>\n",
              "    </tr>\n",
              "    <tr>\n",
              "      <th>3</th>\n",
              "      <td>8.5</td>\n",
              "      <td>75.0</td>\n",
              "    </tr>\n",
              "    <tr>\n",
              "      <th>4</th>\n",
              "      <td>3.5</td>\n",
              "      <td>30.0</td>\n",
              "    </tr>\n",
              "  </tbody>\n",
              "</table>\n",
              "</div>"
            ],
            "text/plain": [
              "   Hours  Scores\n",
              "0    2.5    21.0\n",
              "1    5.1    47.0\n",
              "2    3.2    27.0\n",
              "3    8.5    75.0\n",
              "4    3.5    30.0"
            ]
          },
          "metadata": {},
          "execution_count": 14
        }
      ],
      "metadata": {
        "colab": {
          "base_uri": "https://localhost:8080/",
          "height": 204
        },
        "id": "j7FBo6fZ9e-R",
        "outputId": "60583ffc-cbf5-44bd-ea5c-4ed8de8633da"
      }
    },
    {
      "cell_type": "code",
      "execution_count": null,
      "source": [
        "data.describe()"
      ],
      "outputs": [
        {
          "output_type": "execute_result",
          "data": {
            "text/html": [
              "<div>\n",
              "<style scoped>\n",
              "    .dataframe tbody tr th:only-of-type {\n",
              "        vertical-align: middle;\n",
              "    }\n",
              "\n",
              "    .dataframe tbody tr th {\n",
              "        vertical-align: top;\n",
              "    }\n",
              "\n",
              "    .dataframe thead th {\n",
              "        text-align: right;\n",
              "    }\n",
              "</style>\n",
              "<table border=\"1\" class=\"dataframe\">\n",
              "  <thead>\n",
              "    <tr style=\"text-align: right;\">\n",
              "      <th></th>\n",
              "      <th>Hours</th>\n",
              "      <th>Scores</th>\n",
              "    </tr>\n",
              "  </thead>\n",
              "  <tbody>\n",
              "    <tr>\n",
              "      <th>count</th>\n",
              "      <td>25.000000</td>\n",
              "      <td>25.000000</td>\n",
              "    </tr>\n",
              "    <tr>\n",
              "      <th>mean</th>\n",
              "      <td>5.012000</td>\n",
              "      <td>51.480000</td>\n",
              "    </tr>\n",
              "    <tr>\n",
              "      <th>std</th>\n",
              "      <td>2.525094</td>\n",
              "      <td>25.286887</td>\n",
              "    </tr>\n",
              "    <tr>\n",
              "      <th>min</th>\n",
              "      <td>1.100000</td>\n",
              "      <td>17.000000</td>\n",
              "    </tr>\n",
              "    <tr>\n",
              "      <th>25%</th>\n",
              "      <td>2.700000</td>\n",
              "      <td>30.000000</td>\n",
              "    </tr>\n",
              "    <tr>\n",
              "      <th>50%</th>\n",
              "      <td>4.800000</td>\n",
              "      <td>47.000000</td>\n",
              "    </tr>\n",
              "    <tr>\n",
              "      <th>75%</th>\n",
              "      <td>7.400000</td>\n",
              "      <td>75.000000</td>\n",
              "    </tr>\n",
              "    <tr>\n",
              "      <th>max</th>\n",
              "      <td>9.200000</td>\n",
              "      <td>95.000000</td>\n",
              "    </tr>\n",
              "  </tbody>\n",
              "</table>\n",
              "</div>"
            ],
            "text/plain": [
              "           Hours     Scores\n",
              "count  25.000000  25.000000\n",
              "mean    5.012000  51.480000\n",
              "std     2.525094  25.286887\n",
              "min     1.100000  17.000000\n",
              "25%     2.700000  30.000000\n",
              "50%     4.800000  47.000000\n",
              "75%     7.400000  75.000000\n",
              "max     9.200000  95.000000"
            ]
          },
          "metadata": {},
          "execution_count": 17
        }
      ],
      "metadata": {
        "colab": {
          "base_uri": "https://localhost:8080/",
          "height": 297
        },
        "id": "2Yw-wev3A5XI",
        "outputId": "5d8e34a2-76ff-4e2e-b90a-88f0f7c69827"
      }
    },
    {
      "cell_type": "markdown",
      "source": [
        "**Exploring Dataset**"
      ],
      "metadata": {
        "id": "Wgx96qQN_0sA"
      }
    },
    {
      "cell_type": "code",
      "execution_count": null,
      "source": [
        "plt.scatter(data['Hours'], data['Scores'], color='Blue',marker='o')\n",
        "plt.title(\"Hours Vs Scores\")\n",
        "plt.xlabel(\"Hours studied\")\n",
        "plt.ylabel(\"Percentage Scoreed\")\n",
        "plt.show()"
      ],
      "outputs": [
        {
          "output_type": "display_data",
          "data": {
            "image/png": "[encoded data removed]",
            "text/plain": [
              "<Figure size 432x288 with 1 Axes>"
            ]
          },
          "metadata": {
            "needs_background": "light"
          }
        }
      ],
      "metadata": {
        "id": "jJMskGCW-aNO",
        "colab": {
          "base_uri": "https://localhost:8080/",
          "height": 295
        },
        "outputId": "3be6ab54-3f02-4e65-ddb0-08e9656bb6e7"
      }
    },
    {
      "cell_type": "code",
      "execution_count": null,
      "source": [
        "data.isnull().sum()"
      ],
      "outputs": [
        {
          "output_type": "execute_result",
          "data": {
            "text/plain": [
              "Hours     3\n",
              "Scores    3\n",
              "dtype: int64"
            ]
          },
          "metadata": {},
          "execution_count": 31
        }
      ],
      "metadata": {
        "colab": {
          "base_uri": "https://localhost:8080/"
        },
        "id": "V0VtyLcLDoE1",
        "outputId": "9050bc76-faba-4bb2-f9a4-4d717c01aeff"
      }
    },
    {
      "cell_type": "code",
      "execution_count": null,
      "source": [
        "data.columns[data.isnull().any()]\n",
        "data.isnull().sum().nlargest(1)\n",
        "column_with_nan=data.columns[data.isnull().any()]\n",
        "data.shape\n",
        "#remove rows with missing data\n",
        "index_with_nan=data.index[data.isnull().any(axis=1)]\n",
        "index_with_nan.shape\n",
        "data.drop(index_with_nan,0,inplace=True)\n",
        "data.shape"
      ],
      "outputs": [
        {
          "output_type": "execute_result",
          "data": {
            "text/plain": [
              "(25, 2)"
            ]
          },
          "metadata": {},
          "execution_count": 39
        }
      ],
      "metadata": {
        "colab": {
          "base_uri": "https://localhost:8080/"
        },
        "id": "vvRfu7EVGrno",
        "outputId": "264f2eef-41c7-4911-a45c-e987d6e8600e"
      }
    },
    {
      "cell_type": "markdown",
      "source": [
        "**Splitting data into dependent and independent variables**"
      ],
      "metadata": {
        "id": "S7mO0E71COW6"
      }
    },
    {
      "cell_type": "code",
      "execution_count": null,
      "source": [
        "x=data.drop(columns=['Scores'])\n",
        "y=data['Scores']"
      ],
      "outputs": [],
      "metadata": {
        "id": "EfhK5AVVBJlI"
      }
    },
    {
      "cell_type": "markdown",
      "source": [
        "using Linear Regression"
      ],
      "metadata": {
        "id": "jSYCWpojCmOw"
      }
    },
    {
      "cell_type": "code",
      "execution_count": null,
      "source": [
        "model=LinearRegression()"
      ],
      "outputs": [],
      "metadata": {
        "id": "uOxqzE76DTfS"
      }
    },
    {
      "cell_type": "code",
      "execution_count": null,
      "source": [
        "model.fit(x,y)"
      ],
      "outputs": [
        {
          "output_type": "execute_result",
          "data": {
            "text/plain": [
              "LinearRegression(copy_X=True, fit_intercept=True, n_jobs=None, normalize=False)"
            ]
          },
          "metadata": {},
          "execution_count": 42
        }
      ],
      "metadata": {
        "colab": {
          "base_uri": "https://localhost:8080/"
        },
        "id": "12hsQBSQDNiB",
        "outputId": "1ea439e1-bee7-44ae-c433-7ff8b08c29e9"
      }
    },
    {
      "cell_type": "markdown",
      "source": [
        "predict scores"
      ],
      "metadata": {
        "id": "aPPwwvJmI1GR"
      }
    },
    {
      "cell_type": "code",
      "execution_count": null,
      "source": [
        "xtrain,xtest,ytrain,ytest=train_test_split(x,y,test_size=0.2,random_state=0)\n",
        "#to predict\n",
        "predict_y=model.predict(xtest)"
      ],
      "outputs": [],
      "metadata": {
        "id": "NzuACyVBI3oL"
      }
    },
    {
      "cell_type": "code",
      "execution_count": null,
      "source": [
        "predicted_data = pd.DataFrame({'Actual':ytest,'Predicted':predict_y})\n",
        "predicted_data"
      ],
      "outputs": [
        {
          "output_type": "execute_result",
          "data": {
            "text/html": [
              "<div>\n",
              "<style scoped>\n",
              "    .dataframe tbody tr th:only-of-type {\n",
              "        vertical-align: middle;\n",
              "    }\n",
              "\n",
              "    .dataframe tbody tr th {\n",
              "        vertical-align: top;\n",
              "    }\n",
              "\n",
              "    .dataframe thead th {\n",
              "        text-align: right;\n",
              "    }\n",
              "</style>\n",
              "<table border=\"1\" class=\"dataframe\">\n",
              "  <thead>\n",
              "    <tr style=\"text-align: right;\">\n",
              "      <th></th>\n",
              "      <th>Actual</th>\n",
              "      <th>Predicted</th>\n",
              "    </tr>\n",
              "  </thead>\n",
              "  <tbody>\n",
              "    <tr>\n",
              "      <th>5</th>\n",
              "      <td>20.0</td>\n",
              "      <td>17.147378</td>\n",
              "    </tr>\n",
              "    <tr>\n",
              "      <th>2</th>\n",
              "      <td>27.0</td>\n",
              "      <td>33.766244</td>\n",
              "    </tr>\n",
              "    <tr>\n",
              "      <th>19</th>\n",
              "      <td>69.0</td>\n",
              "      <td>74.824618</td>\n",
              "    </tr>\n",
              "    <tr>\n",
              "      <th>16</th>\n",
              "      <td>30.0</td>\n",
              "      <td>26.923182</td>\n",
              "    </tr>\n",
              "    <tr>\n",
              "      <th>11</th>\n",
              "      <td>62.0</td>\n",
              "      <td>60.160913</td>\n",
              "    </tr>\n",
              "  </tbody>\n",
              "</table>\n",
              "</div>"
            ],
            "text/plain": [
              "    Actual  Predicted\n",
              "5     20.0  17.147378\n",
              "2     27.0  33.766244\n",
              "19    69.0  74.824618\n",
              "16    30.0  26.923182\n",
              "11    62.0  60.160913"
            ]
          },
          "metadata": {},
          "execution_count": 49
        }
      ],
      "metadata": {
        "colab": {
          "base_uri": "https://localhost:8080/",
          "height": 204
        },
        "id": "U9PUzrl7JB9C",
        "outputId": "430f41da-b34c-4e91-e107-6649666bd74e"
      }
    },
    {
      "cell_type": "markdown",
      "source": [
        "**Checking accuracy of model**"
      ],
      "metadata": {
        "id": "ZeA6cnNzKiHt"
      }
    },
    {
      "cell_type": "code",
      "execution_count": null,
      "source": [
        "print('The Training Score of the model is: ',model.score(xtrain,ytrain))\n",
        "print('The testing score of the model is: ',model.score(xtest,ytest))"
      ],
      "outputs": [
        {
          "output_type": "stream",
          "name": "stdout",
          "text": [
            "The Training Score of the model is:  0.9512837351709387\n",
            "The testing score of the model is:  0.9491748734859172\n"
          ]
        }
      ],
      "metadata": {
        "colab": {
          "base_uri": "https://localhost:8080/"
        },
        "id": "qtdg-duRJPHD",
        "outputId": "ecb20fd6-f6fd-4a1b-c6b3-063bfaa4919c"
      }
    },
    {
      "cell_type": "code",
      "execution_count": null,
      "source": [
        "from sklearn import metrics  \n",
        "from sklearn.metrics import r2_score\n",
        "print('Mean absolute error:', metrics.mean_absolute_error(ytest, model.predict(xtest))) \n",
        "print('r^2 score error:',r2_score(ytest, model.predict(xtest)))"
      ],
      "outputs": [
        {
          "output_type": "stream",
          "name": "stdout",
          "text": [
            "Mean absolute error: 4.071877793635605\n",
            "r^2 score error: 0.9491748734859172\n"
          ]
        }
      ],
      "metadata": {
        "colab": {
          "base_uri": "https://localhost:8080/"
        },
        "id": "NpRhgksZMKzU",
        "outputId": "87e99249-1b62-48b9-bc91-c9367dda0a27"
      }
    },
    {
      "cell_type": "code",
      "execution_count": null,
      "source": [
        "# Checking the correlations\n",
        "plt.figure(figsize=(10,5))\n",
        "sns.heatmap(data.corr(),annot=True,cmap=\"Blues\",annot_kws={'fontsize':12})\n",
        "plt.xticks(fontsize=12)\n",
        "plt.yticks(fontsize=12)\n",
        "plt.show()"
      ],
      "outputs": [],
      "metadata": {
        "id": "wM49wYRaK-dX"
      }
    },
    {
      "cell_type": "markdown",
      "source": [
        "**What will be predicted score if a student studies for 9.25 hrs/ day?**"
      ],
      "metadata": {
        "id": "wZNF_DtOLnni"
      }
    },
    {
      "cell_type": "markdown",
      "source": [
        "Predict using our model"
      ],
      "metadata": {
        "id": "NnIKw3QAJWyL"
      }
    },
    {
      "cell_type": "code",
      "execution_count": null,
      "source": [
        "hours=[[9.25]]\n",
        "predict = model.predict(hours)\n",
        "print('The no of Hours is: ',hours)\n",
        "print(\"The predicted Score for 9.25 hours is: \",predict)"
      ],
      "outputs": [
        {
          "output_type": "stream",
          "name": "stdout",
          "text": [
            "The no of Hours is:  [[9.25]]\n",
            "The predicted Score for 9.25 hours is:  [92.90985477]\n"
          ]
        }
      ],
      "metadata": {
        "colab": {
          "base_uri": "https://localhost:8080/"
        },
        "id": "UX15W30eJXq7",
        "outputId": "feb19f51-653e-4a87-d462-f01a8e906e01"
      }
    },
    {
      "cell_type": "markdown",
      "source": [
        "\n",
        "**Conclusion:**\n",
        "\n",
        "I have successfully predicted that the student who study 9.25 hour will score 92.90 using Supervised Machine Learning"
      ],
      "metadata": {
        "id": "8mennwVEJmzh"
      }
    }
  ]
}